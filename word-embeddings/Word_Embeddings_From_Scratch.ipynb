{
  "nbformat": 4,
  "nbformat_minor": 0,
  "metadata": {
    "colab": {
      "provenance": [],
      "gpuType": "T4"
    },
    "kernelspec": {
      "name": "python3",
      "display_name": "Python 3"
    },
    "language_info": {
      "name": "python"
    },
    "accelerator": "GPU",
    "widgets": {
      "application/vnd.jupyter.widget-state+json": {
        "e56893faa0cb4167bfe86524d6f69c6f": {
          "model_module": "@jupyter-widgets/controls",
          "model_name": "HBoxModel",
          "model_module_version": "1.5.0",
          "state": {
            "_dom_classes": [],
            "_model_module": "@jupyter-widgets/controls",
            "_model_module_version": "1.5.0",
            "_model_name": "HBoxModel",
            "_view_count": null,
            "_view_module": "@jupyter-widgets/controls",
            "_view_module_version": "1.5.0",
            "_view_name": "HBoxView",
            "box_style": "",
            "children": [
              "IPY_MODEL_c3b036e5fb1a47e283920419b81707f9",
              "IPY_MODEL_8b329a0610494957974ef4dc1848bd26",
              "IPY_MODEL_87007711d6fc4d3285d75fe3c9909f1a"
            ],
            "layout": "IPY_MODEL_8c7afc5a168b46a7b863aabc9aa896f3"
          }
        },
        "c3b036e5fb1a47e283920419b81707f9": {
          "model_module": "@jupyter-widgets/controls",
          "model_name": "HTMLModel",
          "model_module_version": "1.5.0",
          "state": {
            "_dom_classes": [],
            "_model_module": "@jupyter-widgets/controls",
            "_model_module_version": "1.5.0",
            "_model_name": "HTMLModel",
            "_view_count": null,
            "_view_module": "@jupyter-widgets/controls",
            "_view_module_version": "1.5.0",
            "_view_name": "HTMLView",
            "description": "",
            "description_tooltip": null,
            "layout": "IPY_MODEL_a85f442f80a14d28b8af9bd4a62e8aee",
            "placeholder": "​",
            "style": "IPY_MODEL_6d9d2fdb7d6a40998666c9c15ab224a1",
            "value": "Epoch 99: 100%"
          }
        },
        "8b329a0610494957974ef4dc1848bd26": {
          "model_module": "@jupyter-widgets/controls",
          "model_name": "FloatProgressModel",
          "model_module_version": "1.5.0",
          "state": {
            "_dom_classes": [],
            "_model_module": "@jupyter-widgets/controls",
            "_model_module_version": "1.5.0",
            "_model_name": "FloatProgressModel",
            "_view_count": null,
            "_view_module": "@jupyter-widgets/controls",
            "_view_module_version": "1.5.0",
            "_view_name": "ProgressView",
            "bar_style": "success",
            "description": "",
            "description_tooltip": null,
            "layout": "IPY_MODEL_b912395b15d54075811dc5bde65bd0f7",
            "max": 4,
            "min": 0,
            "orientation": "horizontal",
            "style": "IPY_MODEL_d0641ef04cfc463fba6cbad4138599af",
            "value": 4
          }
        },
        "87007711d6fc4d3285d75fe3c9909f1a": {
          "model_module": "@jupyter-widgets/controls",
          "model_name": "HTMLModel",
          "model_module_version": "1.5.0",
          "state": {
            "_dom_classes": [],
            "_model_module": "@jupyter-widgets/controls",
            "_model_module_version": "1.5.0",
            "_model_name": "HTMLModel",
            "_view_count": null,
            "_view_module": "@jupyter-widgets/controls",
            "_view_module_version": "1.5.0",
            "_view_name": "HTMLView",
            "description": "",
            "description_tooltip": null,
            "layout": "IPY_MODEL_87f46612a085400883cd09f34e9904c6",
            "placeholder": "​",
            "style": "IPY_MODEL_dc6ca823716440b2aeb1133420cbc32d",
            "value": " 4/4 [00:00&lt;00:00, 35.44it/s, v_num=7]"
          }
        },
        "8c7afc5a168b46a7b863aabc9aa896f3": {
          "model_module": "@jupyter-widgets/base",
          "model_name": "LayoutModel",
          "model_module_version": "1.2.0",
          "state": {
            "_model_module": "@jupyter-widgets/base",
            "_model_module_version": "1.2.0",
            "_model_name": "LayoutModel",
            "_view_count": null,
            "_view_module": "@jupyter-widgets/base",
            "_view_module_version": "1.2.0",
            "_view_name": "LayoutView",
            "align_content": null,
            "align_items": null,
            "align_self": null,
            "border": null,
            "bottom": null,
            "display": "inline-flex",
            "flex": null,
            "flex_flow": "row wrap",
            "grid_area": null,
            "grid_auto_columns": null,
            "grid_auto_flow": null,
            "grid_auto_rows": null,
            "grid_column": null,
            "grid_gap": null,
            "grid_row": null,
            "grid_template_areas": null,
            "grid_template_columns": null,
            "grid_template_rows": null,
            "height": null,
            "justify_content": null,
            "justify_items": null,
            "left": null,
            "margin": null,
            "max_height": null,
            "max_width": null,
            "min_height": null,
            "min_width": null,
            "object_fit": null,
            "object_position": null,
            "order": null,
            "overflow": null,
            "overflow_x": null,
            "overflow_y": null,
            "padding": null,
            "right": null,
            "top": null,
            "visibility": null,
            "width": "100%"
          }
        },
        "a85f442f80a14d28b8af9bd4a62e8aee": {
          "model_module": "@jupyter-widgets/base",
          "model_name": "LayoutModel",
          "model_module_version": "1.2.0",
          "state": {
            "_model_module": "@jupyter-widgets/base",
            "_model_module_version": "1.2.0",
            "_model_name": "LayoutModel",
            "_view_count": null,
            "_view_module": "@jupyter-widgets/base",
            "_view_module_version": "1.2.0",
            "_view_name": "LayoutView",
            "align_content": null,
            "align_items": null,
            "align_self": null,
            "border": null,
            "bottom": null,
            "display": null,
            "flex": null,
            "flex_flow": null,
            "grid_area": null,
            "grid_auto_columns": null,
            "grid_auto_flow": null,
            "grid_auto_rows": null,
            "grid_column": null,
            "grid_gap": null,
            "grid_row": null,
            "grid_template_areas": null,
            "grid_template_columns": null,
            "grid_template_rows": null,
            "height": null,
            "justify_content": null,
            "justify_items": null,
            "left": null,
            "margin": null,
            "max_height": null,
            "max_width": null,
            "min_height": null,
            "min_width": null,
            "object_fit": null,
            "object_position": null,
            "order": null,
            "overflow": null,
            "overflow_x": null,
            "overflow_y": null,
            "padding": null,
            "right": null,
            "top": null,
            "visibility": null,
            "width": null
          }
        },
        "6d9d2fdb7d6a40998666c9c15ab224a1": {
          "model_module": "@jupyter-widgets/controls",
          "model_name": "DescriptionStyleModel",
          "model_module_version": "1.5.0",
          "state": {
            "_model_module": "@jupyter-widgets/controls",
            "_model_module_version": "1.5.0",
            "_model_name": "DescriptionStyleModel",
            "_view_count": null,
            "_view_module": "@jupyter-widgets/base",
            "_view_module_version": "1.2.0",
            "_view_name": "StyleView",
            "description_width": ""
          }
        },
        "b912395b15d54075811dc5bde65bd0f7": {
          "model_module": "@jupyter-widgets/base",
          "model_name": "LayoutModel",
          "model_module_version": "1.2.0",
          "state": {
            "_model_module": "@jupyter-widgets/base",
            "_model_module_version": "1.2.0",
            "_model_name": "LayoutModel",
            "_view_count": null,
            "_view_module": "@jupyter-widgets/base",
            "_view_module_version": "1.2.0",
            "_view_name": "LayoutView",
            "align_content": null,
            "align_items": null,
            "align_self": null,
            "border": null,
            "bottom": null,
            "display": null,
            "flex": "2",
            "flex_flow": null,
            "grid_area": null,
            "grid_auto_columns": null,
            "grid_auto_flow": null,
            "grid_auto_rows": null,
            "grid_column": null,
            "grid_gap": null,
            "grid_row": null,
            "grid_template_areas": null,
            "grid_template_columns": null,
            "grid_template_rows": null,
            "height": null,
            "justify_content": null,
            "justify_items": null,
            "left": null,
            "margin": null,
            "max_height": null,
            "max_width": null,
            "min_height": null,
            "min_width": null,
            "object_fit": null,
            "object_position": null,
            "order": null,
            "overflow": null,
            "overflow_x": null,
            "overflow_y": null,
            "padding": null,
            "right": null,
            "top": null,
            "visibility": null,
            "width": null
          }
        },
        "d0641ef04cfc463fba6cbad4138599af": {
          "model_module": "@jupyter-widgets/controls",
          "model_name": "ProgressStyleModel",
          "model_module_version": "1.5.0",
          "state": {
            "_model_module": "@jupyter-widgets/controls",
            "_model_module_version": "1.5.0",
            "_model_name": "ProgressStyleModel",
            "_view_count": null,
            "_view_module": "@jupyter-widgets/base",
            "_view_module_version": "1.2.0",
            "_view_name": "StyleView",
            "bar_color": null,
            "description_width": ""
          }
        },
        "87f46612a085400883cd09f34e9904c6": {
          "model_module": "@jupyter-widgets/base",
          "model_name": "LayoutModel",
          "model_module_version": "1.2.0",
          "state": {
            "_model_module": "@jupyter-widgets/base",
            "_model_module_version": "1.2.0",
            "_model_name": "LayoutModel",
            "_view_count": null,
            "_view_module": "@jupyter-widgets/base",
            "_view_module_version": "1.2.0",
            "_view_name": "LayoutView",
            "align_content": null,
            "align_items": null,
            "align_self": null,
            "border": null,
            "bottom": null,
            "display": null,
            "flex": null,
            "flex_flow": null,
            "grid_area": null,
            "grid_auto_columns": null,
            "grid_auto_flow": null,
            "grid_auto_rows": null,
            "grid_column": null,
            "grid_gap": null,
            "grid_row": null,
            "grid_template_areas": null,
            "grid_template_columns": null,
            "grid_template_rows": null,
            "height": null,
            "justify_content": null,
            "justify_items": null,
            "left": null,
            "margin": null,
            "max_height": null,
            "max_width": null,
            "min_height": null,
            "min_width": null,
            "object_fit": null,
            "object_position": null,
            "order": null,
            "overflow": null,
            "overflow_x": null,
            "overflow_y": null,
            "padding": null,
            "right": null,
            "top": null,
            "visibility": null,
            "width": null
          }
        },
        "dc6ca823716440b2aeb1133420cbc32d": {
          "model_module": "@jupyter-widgets/controls",
          "model_name": "DescriptionStyleModel",
          "model_module_version": "1.5.0",
          "state": {
            "_model_module": "@jupyter-widgets/controls",
            "_model_module_version": "1.5.0",
            "_model_name": "DescriptionStyleModel",
            "_view_count": null,
            "_view_module": "@jupyter-widgets/base",
            "_view_module_version": "1.2.0",
            "_view_name": "StyleView",
            "description_width": ""
          }
        },
        "2bb539a44bec4f1786ec47b5734c83cd": {
          "model_module": "@jupyter-widgets/controls",
          "model_name": "HBoxModel",
          "model_module_version": "1.5.0",
          "state": {
            "_dom_classes": [],
            "_model_module": "@jupyter-widgets/controls",
            "_model_module_version": "1.5.0",
            "_model_name": "HBoxModel",
            "_view_count": null,
            "_view_module": "@jupyter-widgets/controls",
            "_view_module_version": "1.5.0",
            "_view_name": "HBoxView",
            "box_style": "",
            "children": [
              "IPY_MODEL_61da23d331fa4b34b29b42077e5f8b12",
              "IPY_MODEL_41ecbb75e4d346b7b7b3b9ac39cf92ed",
              "IPY_MODEL_404a00ca069e4f1a87dbb53012e3e7ee"
            ],
            "layout": "IPY_MODEL_e76997211b8a43d5aac4e995a8068f77"
          }
        },
        "61da23d331fa4b34b29b42077e5f8b12": {
          "model_module": "@jupyter-widgets/controls",
          "model_name": "HTMLModel",
          "model_module_version": "1.5.0",
          "state": {
            "_dom_classes": [],
            "_model_module": "@jupyter-widgets/controls",
            "_model_module_version": "1.5.0",
            "_model_name": "HTMLModel",
            "_view_count": null,
            "_view_module": "@jupyter-widgets/controls",
            "_view_module_version": "1.5.0",
            "_view_name": "HTMLView",
            "description": "",
            "description_tooltip": null,
            "layout": "IPY_MODEL_df16056278d9436d9a3144a26901489e",
            "placeholder": "​",
            "style": "IPY_MODEL_6899d6ba134b40e7af190d9019de34e4",
            "value": "Epoch 99: 100%"
          }
        },
        "41ecbb75e4d346b7b7b3b9ac39cf92ed": {
          "model_module": "@jupyter-widgets/controls",
          "model_name": "FloatProgressModel",
          "model_module_version": "1.5.0",
          "state": {
            "_dom_classes": [],
            "_model_module": "@jupyter-widgets/controls",
            "_model_module_version": "1.5.0",
            "_model_name": "FloatProgressModel",
            "_view_count": null,
            "_view_module": "@jupyter-widgets/controls",
            "_view_module_version": "1.5.0",
            "_view_name": "ProgressView",
            "bar_style": "success",
            "description": "",
            "description_tooltip": null,
            "layout": "IPY_MODEL_71868de7ae1a460f9505bc00a77db57e",
            "max": 4,
            "min": 0,
            "orientation": "horizontal",
            "style": "IPY_MODEL_d6f38f63889540059d9259e9c44ab906",
            "value": 4
          }
        },
        "404a00ca069e4f1a87dbb53012e3e7ee": {
          "model_module": "@jupyter-widgets/controls",
          "model_name": "HTMLModel",
          "model_module_version": "1.5.0",
          "state": {
            "_dom_classes": [],
            "_model_module": "@jupyter-widgets/controls",
            "_model_module_version": "1.5.0",
            "_model_name": "HTMLModel",
            "_view_count": null,
            "_view_module": "@jupyter-widgets/controls",
            "_view_module_version": "1.5.0",
            "_view_name": "HTMLView",
            "description": "",
            "description_tooltip": null,
            "layout": "IPY_MODEL_2b93cd82724445cc887cafd3ac322ee0",
            "placeholder": "​",
            "style": "IPY_MODEL_df482d0a16274bfea3c45d2027deddd0",
            "value": " 4/4 [00:00&lt;00:00, 159.98it/s, v_num=8]"
          }
        },
        "e76997211b8a43d5aac4e995a8068f77": {
          "model_module": "@jupyter-widgets/base",
          "model_name": "LayoutModel",
          "model_module_version": "1.2.0",
          "state": {
            "_model_module": "@jupyter-widgets/base",
            "_model_module_version": "1.2.0",
            "_model_name": "LayoutModel",
            "_view_count": null,
            "_view_module": "@jupyter-widgets/base",
            "_view_module_version": "1.2.0",
            "_view_name": "LayoutView",
            "align_content": null,
            "align_items": null,
            "align_self": null,
            "border": null,
            "bottom": null,
            "display": "inline-flex",
            "flex": null,
            "flex_flow": "row wrap",
            "grid_area": null,
            "grid_auto_columns": null,
            "grid_auto_flow": null,
            "grid_auto_rows": null,
            "grid_column": null,
            "grid_gap": null,
            "grid_row": null,
            "grid_template_areas": null,
            "grid_template_columns": null,
            "grid_template_rows": null,
            "height": null,
            "justify_content": null,
            "justify_items": null,
            "left": null,
            "margin": null,
            "max_height": null,
            "max_width": null,
            "min_height": null,
            "min_width": null,
            "object_fit": null,
            "object_position": null,
            "order": null,
            "overflow": null,
            "overflow_x": null,
            "overflow_y": null,
            "padding": null,
            "right": null,
            "top": null,
            "visibility": null,
            "width": "100%"
          }
        },
        "df16056278d9436d9a3144a26901489e": {
          "model_module": "@jupyter-widgets/base",
          "model_name": "LayoutModel",
          "model_module_version": "1.2.0",
          "state": {
            "_model_module": "@jupyter-widgets/base",
            "_model_module_version": "1.2.0",
            "_model_name": "LayoutModel",
            "_view_count": null,
            "_view_module": "@jupyter-widgets/base",
            "_view_module_version": "1.2.0",
            "_view_name": "LayoutView",
            "align_content": null,
            "align_items": null,
            "align_self": null,
            "border": null,
            "bottom": null,
            "display": null,
            "flex": null,
            "flex_flow": null,
            "grid_area": null,
            "grid_auto_columns": null,
            "grid_auto_flow": null,
            "grid_auto_rows": null,
            "grid_column": null,
            "grid_gap": null,
            "grid_row": null,
            "grid_template_areas": null,
            "grid_template_columns": null,
            "grid_template_rows": null,
            "height": null,
            "justify_content": null,
            "justify_items": null,
            "left": null,
            "margin": null,
            "max_height": null,
            "max_width": null,
            "min_height": null,
            "min_width": null,
            "object_fit": null,
            "object_position": null,
            "order": null,
            "overflow": null,
            "overflow_x": null,
            "overflow_y": null,
            "padding": null,
            "right": null,
            "top": null,
            "visibility": null,
            "width": null
          }
        },
        "6899d6ba134b40e7af190d9019de34e4": {
          "model_module": "@jupyter-widgets/controls",
          "model_name": "DescriptionStyleModel",
          "model_module_version": "1.5.0",
          "state": {
            "_model_module": "@jupyter-widgets/controls",
            "_model_module_version": "1.5.0",
            "_model_name": "DescriptionStyleModel",
            "_view_count": null,
            "_view_module": "@jupyter-widgets/base",
            "_view_module_version": "1.2.0",
            "_view_name": "StyleView",
            "description_width": ""
          }
        },
        "71868de7ae1a460f9505bc00a77db57e": {
          "model_module": "@jupyter-widgets/base",
          "model_name": "LayoutModel",
          "model_module_version": "1.2.0",
          "state": {
            "_model_module": "@jupyter-widgets/base",
            "_model_module_version": "1.2.0",
            "_model_name": "LayoutModel",
            "_view_count": null,
            "_view_module": "@jupyter-widgets/base",
            "_view_module_version": "1.2.0",
            "_view_name": "LayoutView",
            "align_content": null,
            "align_items": null,
            "align_self": null,
            "border": null,
            "bottom": null,
            "display": null,
            "flex": "2",
            "flex_flow": null,
            "grid_area": null,
            "grid_auto_columns": null,
            "grid_auto_flow": null,
            "grid_auto_rows": null,
            "grid_column": null,
            "grid_gap": null,
            "grid_row": null,
            "grid_template_areas": null,
            "grid_template_columns": null,
            "grid_template_rows": null,
            "height": null,
            "justify_content": null,
            "justify_items": null,
            "left": null,
            "margin": null,
            "max_height": null,
            "max_width": null,
            "min_height": null,
            "min_width": null,
            "object_fit": null,
            "object_position": null,
            "order": null,
            "overflow": null,
            "overflow_x": null,
            "overflow_y": null,
            "padding": null,
            "right": null,
            "top": null,
            "visibility": null,
            "width": null
          }
        },
        "d6f38f63889540059d9259e9c44ab906": {
          "model_module": "@jupyter-widgets/controls",
          "model_name": "ProgressStyleModel",
          "model_module_version": "1.5.0",
          "state": {
            "_model_module": "@jupyter-widgets/controls",
            "_model_module_version": "1.5.0",
            "_model_name": "ProgressStyleModel",
            "_view_count": null,
            "_view_module": "@jupyter-widgets/base",
            "_view_module_version": "1.2.0",
            "_view_name": "StyleView",
            "bar_color": null,
            "description_width": ""
          }
        },
        "2b93cd82724445cc887cafd3ac322ee0": {
          "model_module": "@jupyter-widgets/base",
          "model_name": "LayoutModel",
          "model_module_version": "1.2.0",
          "state": {
            "_model_module": "@jupyter-widgets/base",
            "_model_module_version": "1.2.0",
            "_model_name": "LayoutModel",
            "_view_count": null,
            "_view_module": "@jupyter-widgets/base",
            "_view_module_version": "1.2.0",
            "_view_name": "LayoutView",
            "align_content": null,
            "align_items": null,
            "align_self": null,
            "border": null,
            "bottom": null,
            "display": null,
            "flex": null,
            "flex_flow": null,
            "grid_area": null,
            "grid_auto_columns": null,
            "grid_auto_flow": null,
            "grid_auto_rows": null,
            "grid_column": null,
            "grid_gap": null,
            "grid_row": null,
            "grid_template_areas": null,
            "grid_template_columns": null,
            "grid_template_rows": null,
            "height": null,
            "justify_content": null,
            "justify_items": null,
            "left": null,
            "margin": null,
            "max_height": null,
            "max_width": null,
            "min_height": null,
            "min_width": null,
            "object_fit": null,
            "object_position": null,
            "order": null,
            "overflow": null,
            "overflow_x": null,
            "overflow_y": null,
            "padding": null,
            "right": null,
            "top": null,
            "visibility": null,
            "width": null
          }
        },
        "df482d0a16274bfea3c45d2027deddd0": {
          "model_module": "@jupyter-widgets/controls",
          "model_name": "DescriptionStyleModel",
          "model_module_version": "1.5.0",
          "state": {
            "_model_module": "@jupyter-widgets/controls",
            "_model_module_version": "1.5.0",
            "_model_name": "DescriptionStyleModel",
            "_view_count": null,
            "_view_module": "@jupyter-widgets/base",
            "_view_module_version": "1.2.0",
            "_view_name": "StyleView",
            "description_width": ""
          }
        }
      }
    }
  },
  "cells": [
    {
      "cell_type": "markdown",
      "source": [
        "### Following the Word Embedding from scratch tutorial from StatQuest"
      ],
      "metadata": {
        "id": "hBu3Fca3LgKP"
      }
    },
    {
      "cell_type": "code",
      "source": [
        "!pip install lightning"
      ],
      "metadata": {
        "colab": {
          "base_uri": "https://localhost:8080/"
        },
        "id": "CQFYL1SwS2Tb",
        "outputId": "ca6db027-e97c-40e5-e82a-41e6d3478bfa"
      },
      "execution_count": null,
      "outputs": [
        {
          "output_type": "stream",
          "name": "stdout",
          "text": [
            "Requirement already satisfied: lightning in /usr/local/lib/python3.10/dist-packages (2.4.0)\n",
            "Requirement already satisfied: PyYAML<8.0,>=5.4 in /usr/local/lib/python3.10/dist-packages (from lightning) (6.0.2)\n",
            "Requirement already satisfied: fsspec<2026.0,>=2022.5.0 in /usr/local/lib/python3.10/dist-packages (from fsspec[http]<2026.0,>=2022.5.0->lightning) (2024.6.1)\n",
            "Requirement already satisfied: lightning-utilities<2.0,>=0.10.0 in /usr/local/lib/python3.10/dist-packages (from lightning) (0.11.8)\n",
            "Requirement already satisfied: packaging<25.0,>=20.0 in /usr/local/lib/python3.10/dist-packages (from lightning) (24.1)\n",
            "Requirement already satisfied: torch<4.0,>=2.1.0 in /usr/local/lib/python3.10/dist-packages (from lightning) (2.5.0+cu121)\n",
            "Requirement already satisfied: torchmetrics<3.0,>=0.7.0 in /usr/local/lib/python3.10/dist-packages (from lightning) (1.5.1)\n",
            "Requirement already satisfied: tqdm<6.0,>=4.57.0 in /usr/local/lib/python3.10/dist-packages (from lightning) (4.66.5)\n",
            "Requirement already satisfied: typing-extensions<6.0,>=4.4.0 in /usr/local/lib/python3.10/dist-packages (from lightning) (4.12.2)\n",
            "Requirement already satisfied: pytorch-lightning in /usr/local/lib/python3.10/dist-packages (from lightning) (2.4.0)\n",
            "Requirement already satisfied: aiohttp!=4.0.0a0,!=4.0.0a1 in /usr/local/lib/python3.10/dist-packages (from fsspec[http]<2026.0,>=2022.5.0->lightning) (3.10.10)\n",
            "Requirement already satisfied: setuptools in /usr/local/lib/python3.10/dist-packages (from lightning-utilities<2.0,>=0.10.0->lightning) (75.1.0)\n",
            "Requirement already satisfied: filelock in /usr/local/lib/python3.10/dist-packages (from torch<4.0,>=2.1.0->lightning) (3.16.1)\n",
            "Requirement already satisfied: networkx in /usr/local/lib/python3.10/dist-packages (from torch<4.0,>=2.1.0->lightning) (3.4.2)\n",
            "Requirement already satisfied: jinja2 in /usr/local/lib/python3.10/dist-packages (from torch<4.0,>=2.1.0->lightning) (3.1.4)\n",
            "Requirement already satisfied: sympy==1.13.1 in /usr/local/lib/python3.10/dist-packages (from torch<4.0,>=2.1.0->lightning) (1.13.1)\n",
            "Requirement already satisfied: mpmath<1.4,>=1.1.0 in /usr/local/lib/python3.10/dist-packages (from sympy==1.13.1->torch<4.0,>=2.1.0->lightning) (1.3.0)\n",
            "Requirement already satisfied: numpy<2.0,>1.20.0 in /usr/local/lib/python3.10/dist-packages (from torchmetrics<3.0,>=0.7.0->lightning) (1.26.4)\n",
            "Requirement already satisfied: aiohappyeyeballs>=2.3.0 in /usr/local/lib/python3.10/dist-packages (from aiohttp!=4.0.0a0,!=4.0.0a1->fsspec[http]<2026.0,>=2022.5.0->lightning) (2.4.3)\n",
            "Requirement already satisfied: aiosignal>=1.1.2 in /usr/local/lib/python3.10/dist-packages (from aiohttp!=4.0.0a0,!=4.0.0a1->fsspec[http]<2026.0,>=2022.5.0->lightning) (1.3.1)\n",
            "Requirement already satisfied: attrs>=17.3.0 in /usr/local/lib/python3.10/dist-packages (from aiohttp!=4.0.0a0,!=4.0.0a1->fsspec[http]<2026.0,>=2022.5.0->lightning) (24.2.0)\n",
            "Requirement already satisfied: frozenlist>=1.1.1 in /usr/local/lib/python3.10/dist-packages (from aiohttp!=4.0.0a0,!=4.0.0a1->fsspec[http]<2026.0,>=2022.5.0->lightning) (1.4.1)\n",
            "Requirement already satisfied: multidict<7.0,>=4.5 in /usr/local/lib/python3.10/dist-packages (from aiohttp!=4.0.0a0,!=4.0.0a1->fsspec[http]<2026.0,>=2022.5.0->lightning) (6.1.0)\n",
            "Requirement already satisfied: yarl<2.0,>=1.12.0 in /usr/local/lib/python3.10/dist-packages (from aiohttp!=4.0.0a0,!=4.0.0a1->fsspec[http]<2026.0,>=2022.5.0->lightning) (1.16.0)\n",
            "Requirement already satisfied: async-timeout<5.0,>=4.0 in /usr/local/lib/python3.10/dist-packages (from aiohttp!=4.0.0a0,!=4.0.0a1->fsspec[http]<2026.0,>=2022.5.0->lightning) (4.0.3)\n",
            "Requirement already satisfied: MarkupSafe>=2.0 in /usr/local/lib/python3.10/dist-packages (from jinja2->torch<4.0,>=2.1.0->lightning) (3.0.2)\n",
            "Requirement already satisfied: idna>=2.0 in /usr/local/lib/python3.10/dist-packages (from yarl<2.0,>=1.12.0->aiohttp!=4.0.0a0,!=4.0.0a1->fsspec[http]<2026.0,>=2022.5.0->lightning) (3.10)\n",
            "Requirement already satisfied: propcache>=0.2.0 in /usr/local/lib/python3.10/dist-packages (from yarl<2.0,>=1.12.0->aiohttp!=4.0.0a0,!=4.0.0a1->fsspec[http]<2026.0,>=2022.5.0->lightning) (0.2.0)\n"
          ]
        }
      ]
    },
    {
      "cell_type": "code",
      "execution_count": null,
      "metadata": {
        "id": "bGNiUlX7LSXQ"
      },
      "outputs": [],
      "source": [
        "import torch\n",
        "import torch.nn as nn\n",
        "from torch.optim import Adam\n",
        "from torch.distributions.uniform import Uniform\n",
        "from torch.utils.data import TensorDataset, DataLoader\n",
        "\n",
        "import lightning as L\n",
        "\n",
        "import pandas as pd\n",
        "import matplotlib.pyplot as plt\n",
        "import seaborn as sns"
      ]
    },
    {
      "cell_type": "code",
      "source": [
        "inputs = torch.tensor([[1., 0., 0., 0.],\n",
        "                      [0., 1., 0., 0.],\n",
        "                      [0., 0., 1., 0.],\n",
        "                      [0., 0., 0., 1.]])\n",
        "\n",
        "labels = torch.tensor([[0., 1., 0., 0.],\n",
        "                      [0., 0., 1., 0.],\n",
        "                      [0., 0., 0., 1.],\n",
        "                      [0., 1., 0., 0.]])"
      ],
      "metadata": {
        "id": "ES4A0jQ_SuBy"
      },
      "execution_count": null,
      "outputs": []
    },
    {
      "cell_type": "code",
      "source": [
        "dataset = TensorDataset(inputs, labels)\n",
        "dataloader = DataLoader(dataset)"
      ],
      "metadata": {
        "id": "-6BmdJ2FXMKF"
      },
      "execution_count": null,
      "outputs": []
    },
    {
      "cell_type": "code",
      "source": [
        "class WordEmbedding(L.LightningModule):\n",
        "  def __init__(self):\n",
        "  # Create and initialize Weight tensors, and create the loss function\n",
        "    super().__init__()\n",
        "\n",
        "    min_value = -0.5\n",
        "    max_value = 0.5\n",
        "\n",
        "    self.input1_w1 = nn.Parameter(Uniform(min_value, max_value).sample())\n",
        "    self.input1_w2 = nn.Parameter(Uniform(min_value, max_value).sample())\n",
        "    self.input2_w1 = nn.Parameter(Uniform(min_value, max_value).sample())\n",
        "    self.input2_w2 = nn.Parameter(Uniform(min_value, max_value).sample())\n",
        "    self.input3_w1 = nn.Parameter(Uniform(min_value, max_value).sample())\n",
        "    self.input3_w2 = nn.Parameter(Uniform(min_value, max_value).sample())\n",
        "    self.input4_w1 = nn.Parameter(Uniform(min_value, max_value).sample())\n",
        "    self.input4_w2 = nn.Parameter(Uniform(min_value, max_value).sample())\n",
        "\n",
        "    self.output1_w1 = nn.Parameter(Uniform(min_value, max_value).sample())\n",
        "    self.output1_w2 = nn.Parameter(Uniform(min_value, max_value).sample())\n",
        "    self.output2_w1 = nn.Parameter(Uniform(min_value, max_value).sample())\n",
        "    self.output2_w2 = nn.Parameter(Uniform(min_value, max_value).sample())\n",
        "    self.output3_w1 = nn.Parameter(Uniform(min_value, max_value).sample())\n",
        "    self.output3_w2 = nn.Parameter(Uniform(min_value, max_value).sample())\n",
        "    self.output4_w1 = nn.Parameter(Uniform(min_value, max_value).sample())\n",
        "    self.output4_w2 = nn.Parameter(Uniform(min_value, max_value).sample())\n",
        "\n",
        "    self.loss = nn.CrossEntropyLoss()\n",
        "\n",
        "  def forward(self, input):\n",
        "  # Make a forward pass through the network\n",
        "    input = input[0]\n",
        "\n",
        "    inputs_to_top_hidden = ((input[0] * self.input1_w1) +\n",
        "                            (input[1] * self.input2_w1) +\n",
        "                            (input[2] * self.input3_w1) +\n",
        "                            (input[3] * self.input4_w1))\n",
        "\n",
        "    inputs_to_bottom_hidden = ((input[0] * self.input1_w2) +\n",
        "                               (input[1] * self.input2_w2) +\n",
        "                               (input[2] * self.input3_w2) +\n",
        "                               (input[3] * self.input4_w2))\n",
        "\n",
        "    output1 = ((inputs_to_top_hidden * self.output1_w1) +\n",
        "               (inputs_to_bottom_hidden * self.output1_w2))\n",
        "\n",
        "    output2 = ((inputs_to_top_hidden * self.output2_w1) +\n",
        "               (inputs_to_bottom_hidden * self.output2_w2))\n",
        "\n",
        "    output3 = ((inputs_to_top_hidden * self.output3_w1) +\n",
        "               (inputs_to_bottom_hidden * self.output3_w2))\n",
        "\n",
        "    output4 = ((inputs_to_top_hidden * self.output4_w1) +\n",
        "               (inputs_to_bottom_hidden * self.output4_w2))\n",
        "\n",
        "    output_pre_softmax = torch.stack([output1, output2, output3, output4])\n",
        "\n",
        "    return output_pre_softmax\n",
        "\n",
        "  def configure_optimizers(self):\n",
        "  # Configure Adam optimizer\n",
        "    return Adam(self.parameters(), lr=0.1)\n",
        "\n",
        "  def training_step(self, batch, batch_idx):\n",
        "  # Calculate loss\n",
        "    input_i, label_i = batch\n",
        "    output_i = self.forward(input_i)\n",
        "    loss = self.loss(output_i, label_i[0])\n",
        "\n",
        "    return loss"
      ],
      "metadata": {
        "id": "qyeJrZfv8Dgw"
      },
      "execution_count": null,
      "outputs": []
    },
    {
      "cell_type": "code",
      "source": [
        "model = WordEmbedding()\n",
        "\n",
        "print(\"Before optimization the parameters are..\")\n",
        "for name, params in model.named_parameters():\n",
        "  print(name, params.data)"
      ],
      "metadata": {
        "colab": {
          "base_uri": "https://localhost:8080/"
        },
        "id": "0rULyzdrDhk1",
        "outputId": "5bccbe98-8415-4007-af83-2adbba608085"
      },
      "execution_count": null,
      "outputs": [
        {
          "output_type": "stream",
          "name": "stdout",
          "text": [
            "Before optimization the parameters are..\n",
            "input1_w1 tensor(-0.2827)\n",
            "input1_w2 tensor(-0.3648)\n",
            "input2_w1 tensor(-0.2417)\n",
            "input2_w2 tensor(-0.0003)\n",
            "input3_w1 tensor(-0.1280)\n",
            "input3_w2 tensor(-0.1960)\n",
            "input4_w1 tensor(-0.2258)\n",
            "input4_w2 tensor(0.0380)\n",
            "output1_w1 tensor(0.2760)\n",
            "output1_w2 tensor(0.1596)\n",
            "output2_w1 tensor(0.1779)\n",
            "output2_w2 tensor(-0.2593)\n",
            "output3_w1 tensor(-0.4326)\n",
            "output3_w2 tensor(0.4100)\n",
            "output4_w1 tensor(0.1453)\n",
            "output4_w2 tensor(0.0562)\n"
          ]
        }
      ]
    },
    {
      "cell_type": "code",
      "source": [
        "data = {\n",
        "    \"w1\": [model.input1_w1.item(),\n",
        "           model.input2_w1.item(),\n",
        "           model.input3_w1.item(),\n",
        "           model.input4_w1.item()],\n",
        "    \"w2\": [model.input1_w2.item(),\n",
        "           model.input2_w2.item(),\n",
        "           model.input3_w2.item(),\n",
        "           model.input4_w2.item()],\n",
        "    \"token\": ['Varun', 'is', 'awesome', 'Dixit'],\n",
        "    \"input\": ['Input1', \"Input2\", \"Input3\", \"Input4\"]\n",
        "}\n",
        "df = pd.DataFrame(data)\n",
        "print(df)"
      ],
      "metadata": {
        "colab": {
          "base_uri": "https://localhost:8080/"
        },
        "id": "N2IMBS_ED0uy",
        "outputId": "7e27b7e8-b589-402a-c0ba-1ae0d1e6f55f"
      },
      "execution_count": null,
      "outputs": [
        {
          "output_type": "stream",
          "name": "stdout",
          "text": [
            "         w1        w2    token   input\n",
            "0 -0.282734 -0.364800    Varun  Input1\n",
            "1 -0.241675 -0.000279       is  Input2\n",
            "2 -0.128012 -0.196035  awesome  Input3\n",
            "3 -0.225825  0.037956    Dixit  Input4\n"
          ]
        }
      ]
    },
    {
      "cell_type": "code",
      "source": [
        "sns.scatterplot(data=df, x='w1', y='w2')\n",
        "plt.text(df.w1[0], df.w2[0], df.token[0], horizontalalignment='left', size='medium', color='black', weight='semibold')\n",
        "plt.text(df.w1[1], df.w2[1], df.token[1], horizontalalignment='left', size='medium', color='black', weight='semibold')\n",
        "plt.text(df.w1[2], df.w2[2], df.token[2], horizontalalignment='left', size='medium', color='black', weight='semibold')\n",
        "plt.text(df.w1[3], df.w2[3], df.token[3], horizontalalignment='left', size='medium', color='black', weight='semibold')\n",
        "plt.show()"
      ],
      "metadata": {
        "colab": {
          "base_uri": "https://localhost:8080/",
          "height": 449
        },
        "id": "pRWIHdWAEUR3",
        "outputId": "276fc91b-eaaa-4bd3-dc2d-df3bd089d400"
      },
      "execution_count": null,
      "outputs": [
        {
          "output_type": "display_data",
          "data": {
            "text/plain": [
              "<Figure size 640x480 with 1 Axes>"
            ],
            "image/png": "[encoded data removed]"
          },
          "metadata": {}
        }
      ]
    },
    {
      "cell_type": "code",
      "source": [
        "trainer = L.Trainer(max_epochs=100)\n",
        "trainer.fit(model, train_dataloaders=dataloader)"
      ],
      "metadata": {
        "colab": {
          "base_uri": "https://localhost:8080/",
          "height": 677,
          "referenced_widgets": [
            "e56893faa0cb4167bfe86524d6f69c6f",
            "c3b036e5fb1a47e283920419b81707f9",
            "8b329a0610494957974ef4dc1848bd26",
            "87007711d6fc4d3285d75fe3c9909f1a",
            "8c7afc5a168b46a7b863aabc9aa896f3",
            "a85f442f80a14d28b8af9bd4a62e8aee",
            "6d9d2fdb7d6a40998666c9c15ab224a1",
            "b912395b15d54075811dc5bde65bd0f7",
            "d0641ef04cfc463fba6cbad4138599af",
            "87f46612a085400883cd09f34e9904c6",
            "dc6ca823716440b2aeb1133420cbc32d"
          ]
        },
        "id": "c5s4yDd3GAIw",
        "outputId": "fe201714-1d14-4881-c726-b2b0aa2021a8"
      },
      "execution_count": null,
      "outputs": [
        {
          "output_type": "stream",
          "name": "stderr",
          "text": [
            "INFO: GPU available: True (cuda), used: True\n",
            "INFO:lightning.pytorch.utilities.rank_zero:GPU available: True (cuda), used: True\n",
            "INFO: TPU available: False, using: 0 TPU cores\n",
            "INFO:lightning.pytorch.utilities.rank_zero:TPU available: False, using: 0 TPU cores\n",
            "INFO: HPU available: False, using: 0 HPUs\n",
            "INFO:lightning.pytorch.utilities.rank_zero:HPU available: False, using: 0 HPUs\n",
            "INFO: LOCAL_RANK: 0 - CUDA_VISIBLE_DEVICES: [0]\n",
            "INFO:lightning.pytorch.accelerators.cuda:LOCAL_RANK: 0 - CUDA_VISIBLE_DEVICES: [0]\n",
            "INFO: \n",
            "  | Name         | Type             | Params | Mode \n",
            "----------------------------------------------------------\n",
            "0 | loss         | CrossEntropyLoss | 0      | train\n",
            "  | other params | n/a              | 16     | n/a  \n",
            "----------------------------------------------------------\n",
            "16        Trainable params\n",
            "0         Non-trainable params\n",
            "16        Total params\n",
            "0.000     Total estimated model params size (MB)\n",
            "1         Modules in train mode\n",
            "0         Modules in eval mode\n",
            "INFO:lightning.pytorch.callbacks.model_summary:\n",
            "  | Name         | Type             | Params | Mode \n",
            "----------------------------------------------------------\n",
            "0 | loss         | CrossEntropyLoss | 0      | train\n",
            "  | other params | n/a              | 16     | n/a  \n",
            "----------------------------------------------------------\n",
            "16        Trainable params\n",
            "0         Non-trainable params\n",
            "16        Total params\n",
            "0.000     Total estimated model params size (MB)\n",
            "1         Modules in train mode\n",
            "0         Modules in eval mode\n",
            "/usr/local/lib/python3.10/dist-packages/lightning/pytorch/loops/fit_loop.py:298: The number of training batches (4) is smaller than the logging interval Trainer(log_every_n_steps=50). Set a lower value for log_every_n_steps if you want to see logs for the training epoch.\n"
          ]
        },
        {
          "output_type": "display_data",
          "data": {
            "text/plain": [
              "Training: |          | 0/? [00:00<?, ?it/s]"
            ],
            "application/vnd.jupyter.widget-view+json": {
              "version_major": 2,
              "version_minor": 0,
              "model_id": "e56893faa0cb4167bfe86524d6f69c6f"
            }
          },
          "metadata": {}
        },
        {
          "output_type": "stream",
          "name": "stderr",
          "text": [
            "INFO: `Trainer.fit` stopped: `max_epochs=100` reached.\n",
            "INFO:lightning.pytorch.utilities.rank_zero:`Trainer.fit` stopped: `max_epochs=100` reached.\n"
          ]
        }
      ]
    },
    {
      "cell_type": "code",
      "source": [
        "data = {\n",
        "    \"w1\": [model.input1_w1.item(),\n",
        "           model.input2_w1.item(),\n",
        "           model.input3_w1.item(),\n",
        "           model.input4_w1.item()],\n",
        "    \"w2\": [model.input1_w2.item(),\n",
        "           model.input2_w2.item(),\n",
        "           model.input3_w2.item(),\n",
        "           model.input4_w2.item()],\n",
        "    \"token\": ['Varun', 'is', 'awesome', 'Dixit'],\n",
        "    \"input\": ['Input1', \"Input2\", \"Input3\", \"Input4\"]\n",
        "}\n",
        "df = pd.DataFrame(data)\n",
        "print(df)"
      ],
      "metadata": {
        "colab": {
          "base_uri": "https://localhost:8080/"
        },
        "id": "WESXT75EHpOb",
        "outputId": "3e770ba9-3b13-4ba8-8486-fbdee0625e56"
      },
      "execution_count": null,
      "outputs": [
        {
          "output_type": "stream",
          "name": "stdout",
          "text": [
            "         w1        w2    token   input\n",
            "0 -1.252827 -1.920812    Varun  Input1\n",
            "1 -2.005298  1.849890       is  Input2\n",
            "2  2.405137 -1.470854  awesome  Input3\n",
            "3 -1.748360 -1.504894    Dixit  Input4\n"
          ]
        }
      ]
    },
    {
      "cell_type": "code",
      "source": [
        "sns.scatterplot(data=df, x='w1', y='w2')\n",
        "plt.text(df.w1[0], df.w2[0], df.token[0], horizontalalignment='left', size='medium', color='black', weight='semibold')\n",
        "plt.text(df.w1[1], df.w2[1], df.token[1], horizontalalignment='left', size='medium', color='black', weight='semibold')\n",
        "plt.text(df.w1[2], df.w2[2], df.token[2], horizontalalignment='left', size='medium', color='black', weight='semibold')\n",
        "plt.text(df.w1[3], df.w2[3], df.token[3], horizontalalignment='left', size='medium', color='black', weight='semibold')\n",
        "plt.show()"
      ],
      "metadata": {
        "colab": {
          "base_uri": "https://localhost:8080/",
          "height": 451
        },
        "id": "nyQhXncWH9uZ",
        "outputId": "0a2275ab-95b2-496a-a439-abc0704e8bcb"
      },
      "execution_count": null,
      "outputs": [
        {
          "output_type": "display_data",
          "data": {
            "text/plain": [
              "<Figure size 640x480 with 1 Axes>"
            ],
            "image/png": "[encoded data removed]"
          },
          "metadata": {}
        }
      ]
    },
    {
      "cell_type": "code",
      "source": [
        "softmax = nn.Softmax(dim=0)\n",
        "print(torch.round(softmax(model(torch.tensor([[1., 0., 0., 0.]]))), decimals=2))\n",
        "print(torch.round(softmax(model(torch.tensor([[0., 1., 0., 0.]]))), decimals=2))\n",
        "print(torch.round(softmax(model(torch.tensor([[0., 0., 1., 0.]]))), decimals=2))\n",
        "print(torch.round(softmax(model(torch.tensor([[1., 0., 0., 1.]]))), decimals=2))"
      ],
      "metadata": {
        "colab": {
          "base_uri": "https://localhost:8080/"
        },
        "id": "Jyj5FlC0JSFv",
        "outputId": "819b2039-f881-4976-b0cf-efd43eb9c030"
      },
      "execution_count": null,
      "outputs": [
        {
          "output_type": "stream",
          "name": "stdout",
          "text": [
            "tensor([0., 1., 0., 0.], grad_fn=<RoundBackward1>)\n",
            "tensor([0., 0., 1., 0.], grad_fn=<RoundBackward1>)\n",
            "tensor([0., 0., 0., 1.], grad_fn=<RoundBackward1>)\n",
            "tensor([0., 1., 0., 0.], grad_fn=<RoundBackward1>)\n"
          ]
        }
      ]
    },
    {
      "cell_type": "markdown",
      "source": [
        "### Using the nn.linear() function from PyTorch"
      ],
      "metadata": {
        "id": "n7KcHJckPje3"
      }
    },
    {
      "cell_type": "code",
      "source": [
        "class WordEmbeddingWithLinear(L.LightningModule):\n",
        "  def __init__(self):\n",
        "    super().__init__()\n",
        "    self.input_to_hidden = nn.Linear(in_features=4, out_features=2, bias=False)\n",
        "    self.hidden_to_output = nn.Linear(in_features=2, out_features=4, bias=False)\n",
        "    self.loss = nn.CrossEntropyLoss()\n",
        "\n",
        "  def forward(self, input):\n",
        "      hidden = self.input_to_hidden(input)\n",
        "      output = self.hidden_to_output(hidden)\n",
        "      return output\n",
        "\n",
        "  def configure_optimizers(self):\n",
        "      return Adam(self.parameters(), lr=0.1)\n",
        "\n",
        "  def training_step(self, batch, batch_idx):\n",
        "      input_i, label_i = batch\n",
        "      output_i = self.forward(input_i)\n",
        "      loss = self.loss(output_i, label_i)\n",
        "      return loss"
      ],
      "metadata": {
        "id": "4zGfOmS3Juy5"
      },
      "execution_count": null,
      "outputs": []
    },
    {
      "cell_type": "code",
      "source": [
        "modellinear = WordEmbeddingWithLinear()"
      ],
      "metadata": {
        "id": "KIyg4Zj1Nv0M"
      },
      "execution_count": null,
      "outputs": []
    },
    {
      "cell_type": "code",
      "source": [
        "data = {\n",
        "    \"w1\": modellinear.input_to_hidden.weight.detach()[0].numpy(),\n",
        "    \"w2\": modellinear.input_to_hidden.weight.detach()[1].numpy(),\n",
        "    \"token\": ['Varun', 'is', 'awesome', 'Dixit'],\n",
        "    \"input\": ['Input1', \"Input2\", \"Input3\", \"Input4\"]\n",
        "}\n",
        "df = pd.DataFrame(data)\n",
        "print(df)"
      ],
      "metadata": {
        "colab": {
          "base_uri": "https://localhost:8080/"
        },
        "id": "RG_fgsm_OAql",
        "outputId": "b63fb611-670a-45ac-ecdb-d7cf25a139af"
      },
      "execution_count": null,
      "outputs": [
        {
          "output_type": "stream",
          "name": "stdout",
          "text": [
            "         w1        w2    token   input\n",
            "0 -0.218310  0.402604    Varun  Input1\n",
            "1 -0.146373 -0.327709       is  Input2\n",
            "2  0.012686 -0.065361  awesome  Input3\n",
            "3 -0.030376  0.326553    Dixit  Input4\n"
          ]
        }
      ]
    },
    {
      "cell_type": "code",
      "source": [
        "sns.scatterplot(data=df, x='w1', y='w2')\n",
        "plt.text(df.w1[0], df.w2[0], df.token[0], horizontalalignment='left', size='medium', color='black', weight='semibold')\n",
        "plt.text(df.w1[1], df.w2[1], df.token[1], horizontalalignment='left', size='medium', color='black', weight='semibold')\n",
        "plt.text(df.w1[2], df.w2[2], df.token[2], horizontalalignment='left', size='medium', color='black', weight='semibold')\n",
        "plt.text(df.w1[3], df.w2[3], df.token[3], horizontalalignment='left', size='medium', color='black', weight='semibold')\n",
        "plt.show()"
      ],
      "metadata": {
        "colab": {
          "base_uri": "https://localhost:8080/",
          "height": 449
        },
        "id": "sWFE23l50TZH",
        "outputId": "1874c43e-e224-40d5-ddbf-5ae31c1faa35"
      },
      "execution_count": null,
      "outputs": [
        {
          "output_type": "display_data",
          "data": {
            "text/plain": [
              "<Figure size 640x480 with 1 Axes>"
            ],
            "image/png": "[encoded data removed]"
          },
          "metadata": {}
        }
      ]
    },
    {
      "cell_type": "code",
      "source": [
        "trainer = L.Trainer(max_epochs=100)\n",
        "trainer.fit(modellinear, train_dataloaders=dataloader)"
      ],
      "metadata": {
        "colab": {
          "base_uri": "https://localhost:8080/",
          "height": 711,
          "referenced_widgets": [
            "2bb539a44bec4f1786ec47b5734c83cd",
            "61da23d331fa4b34b29b42077e5f8b12",
            "41ecbb75e4d346b7b7b3b9ac39cf92ed",
            "404a00ca069e4f1a87dbb53012e3e7ee",
            "e76997211b8a43d5aac4e995a8068f77",
            "df16056278d9436d9a3144a26901489e",
            "6899d6ba134b40e7af190d9019de34e4",
            "71868de7ae1a460f9505bc00a77db57e",
            "d6f38f63889540059d9259e9c44ab906",
            "2b93cd82724445cc887cafd3ac322ee0",
            "df482d0a16274bfea3c45d2027deddd0"
          ]
        },
        "id": "bFDk9SX_18La",
        "outputId": "c1ef809c-4fbf-4a69-9d75-a8d312bdda59"
      },
      "execution_count": null,
      "outputs": [
        {
          "output_type": "stream",
          "name": "stderr",
          "text": [
            "INFO: GPU available: True (cuda), used: True\n",
            "INFO:lightning.pytorch.utilities.rank_zero:GPU available: True (cuda), used: True\n",
            "INFO: TPU available: False, using: 0 TPU cores\n",
            "INFO:lightning.pytorch.utilities.rank_zero:TPU available: False, using: 0 TPU cores\n",
            "INFO: HPU available: False, using: 0 HPUs\n",
            "INFO:lightning.pytorch.utilities.rank_zero:HPU available: False, using: 0 HPUs\n",
            "INFO: LOCAL_RANK: 0 - CUDA_VISIBLE_DEVICES: [0]\n",
            "INFO:lightning.pytorch.accelerators.cuda:LOCAL_RANK: 0 - CUDA_VISIBLE_DEVICES: [0]\n",
            "INFO: \n",
            "  | Name             | Type             | Params | Mode \n",
            "--------------------------------------------------------------\n",
            "0 | input_to_hidden  | Linear           | 8      | train\n",
            "1 | hidden_to_output | Linear           | 8      | train\n",
            "2 | loss             | CrossEntropyLoss | 0      | train\n",
            "--------------------------------------------------------------\n",
            "16        Trainable params\n",
            "0         Non-trainable params\n",
            "16        Total params\n",
            "0.000     Total estimated model params size (MB)\n",
            "3         Modules in train mode\n",
            "0         Modules in eval mode\n",
            "INFO:lightning.pytorch.callbacks.model_summary:\n",
            "  | Name             | Type             | Params | Mode \n",
            "--------------------------------------------------------------\n",
            "0 | input_to_hidden  | Linear           | 8      | train\n",
            "1 | hidden_to_output | Linear           | 8      | train\n",
            "2 | loss             | CrossEntropyLoss | 0      | train\n",
            "--------------------------------------------------------------\n",
            "16        Trainable params\n",
            "0         Non-trainable params\n",
            "16        Total params\n",
            "0.000     Total estimated model params size (MB)\n",
            "3         Modules in train mode\n",
            "0         Modules in eval mode\n",
            "/usr/local/lib/python3.10/dist-packages/lightning/pytorch/loops/fit_loop.py:298: The number of training batches (4) is smaller than the logging interval Trainer(log_every_n_steps=50). Set a lower value for log_every_n_steps if you want to see logs for the training epoch.\n"
          ]
        },
        {
          "output_type": "display_data",
          "data": {
            "text/plain": [
              "Training: |          | 0/? [00:00<?, ?it/s]"
            ],
            "application/vnd.jupyter.widget-view+json": {
              "version_major": 2,
              "version_minor": 0,
              "model_id": "2bb539a44bec4f1786ec47b5734c83cd"
            }
          },
          "metadata": {}
        },
        {
          "output_type": "stream",
          "name": "stderr",
          "text": [
            "INFO: `Trainer.fit` stopped: `max_epochs=100` reached.\n",
            "INFO:lightning.pytorch.utilities.rank_zero:`Trainer.fit` stopped: `max_epochs=100` reached.\n"
          ]
        }
      ]
    },
    {
      "cell_type": "code",
      "source": [
        "data = {\n",
        "    \"w1\": modellinear.input_to_hidden.weight.detach()[0].numpy(),\n",
        "    \"w2\": modellinear.input_to_hidden.weight.detach()[1].numpy(),\n",
        "    \"token\": ['Varun', 'is', 'awesome', 'Dixit'],\n",
        "    \"input\": ['Input1', \"Input2\", \"Input3\", \"Input4\"]\n",
        "}\n",
        "df = pd.DataFrame(data)\n",
        "print(df)"
      ],
      "metadata": {
        "colab": {
          "base_uri": "https://localhost:8080/"
        },
        "id": "WHQEMHU92AV2",
        "outputId": "5052af4b-0eb8-4500-aa3c-22c96b075dc5"
      },
      "execution_count": null,
      "outputs": [
        {
          "output_type": "stream",
          "name": "stdout",
          "text": [
            "         w1        w2    token   input\n",
            "0 -0.650080  2.432020    Varun  Input1\n",
            "1 -1.998891 -1.920293       is  Input2\n",
            "2  2.541150 -0.022522  awesome  Input3\n",
            "3 -1.168471  2.147568    Dixit  Input4\n"
          ]
        }
      ]
    },
    {
      "cell_type": "code",
      "source": [
        "sns.scatterplot(data=df, x='w1', y='w2')\n",
        "plt.text(df.w1[0], df.w2[0], df.token[0], horizontalalignment='left', size='medium', color='black', weight='semibold')\n",
        "plt.text(df.w1[1], df.w2[1], df.token[1], horizontalalignment='left', size='medium', color='black', weight='semibold')\n",
        "plt.text(df.w1[2], df.w2[2], df.token[2], horizontalalignment='left', size='medium', color='black', weight='semibold')\n",
        "plt.text(df.w1[3], df.w2[3], df.token[3], horizontalalignment='left', size='medium', color='black', weight='semibold')\n",
        "plt.show()"
      ],
      "metadata": {
        "colab": {
          "base_uri": "https://localhost:8080/",
          "height": 449
        },
        "id": "pGNEbLm11SOw",
        "outputId": "935a6ca9-0a97-4020-ccf9-386a3f92b524"
      },
      "execution_count": null,
      "outputs": [
        {
          "output_type": "display_data",
          "data": {
            "text/plain": [
              "<Figure size 640x480 with 1 Axes>"
            ],
            "image/png": "[encoded data removed]"
          },
          "metadata": {}
        }
      ]
    }
  ]
}